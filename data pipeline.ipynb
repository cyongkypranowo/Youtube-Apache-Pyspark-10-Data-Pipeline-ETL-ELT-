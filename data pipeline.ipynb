{
 "cells": [
  {
   "cell_type": "markdown",
   "metadata": {},
   "source": [
    "# ETL DATA PIPELINE "
   ]
  },
  {
   "cell_type": "markdown",
   "metadata": {},
   "source": [
    "#### Import Spark Session dalam paket pyspark.sql"
   ]
  },
  {
   "cell_type": "code",
   "execution_count": null,
   "metadata": {},
   "outputs": [],
   "source": [
    "from pyspark.sql import SparkSession"
   ]
  },
  {
   "cell_type": "markdown",
   "metadata": {},
   "source": [
    "#### Buat sebuah spark session bernama reading_csv"
   ]
  },
  {
   "cell_type": "code",
   "execution_count": null,
   "metadata": {},
   "outputs": [],
   "source": [
    "if __name__ == '__main__':\n",
    "scSpark = SparkSession\n",
    "            .builder\n",
    "            .appName(\"reading_csv\")\n",
    "            .config(\"spark.driver.extraClassPath\",\"mysql-connector-java-5.1.49.jar\") #path ke lokasi mysql driver\n",
    "            .getOrCreate()"
   ]
  },
  {
   "cell_type": "markdown",
   "metadata": {},
   "source": [
    "#### Pengaturan path ke lokasi file"
   ]
  },
  {
   "cell_type": "code",
   "execution_count": null,
   "metadata": {},
   "outputs": [],
   "source": [
    "filePath = 'covid-19-all.csv'"
   ]
  },
  {
   "cell_type": "markdown",
   "metadata": {},
   "source": [
    "#### Setting file CSV (lokasi, header & separator)"
   ]
  },
  {
   "cell_type": "code",
   "execution_count": null,
   "metadata": {},
   "outputs": [],
   "source": [
    "data = scSpark.read.csv(filePath, header=True, sep=\",\")"
   ]
  },
  {
   "cell_type": "markdown",
   "metadata": {},
   "source": [
    "#### Query menampilkan isi CSV "
   ]
  },
  {
   "cell_type": "code",
   "execution_count": null,
   "metadata": {},
   "outputs": [],
   "source": [
    "output = scSpark.sql('where Country = \"China\" AND Confirmed IS NOT NULL')"
   ]
  },
  {
   "cell_type": "markdown",
   "metadata": {},
   "source": [
    "#### Perintah show() untuk output isi csv menjadi data frame"
   ]
  },
  {
   "cell_type": "code",
   "execution_count": null,
   "metadata": {},
   "outputs": [],
   "source": [
    "output.show()\n",
    "\n",
    "#jika ingin konversi menjadi format JSON Object, dapat menggunakan perintah berikut :\n",
    "\n",
    "#output.write.format('json').save('filtered.json')"
   ]
  },
  {
   "cell_type": "markdown",
   "metadata": {},
   "source": [
    "#### Koneksi ke database (Pastikan database & table sudah dibuat)"
   ]
  },
  {
   "cell_type": "code",
   "execution_count": null,
   "metadata": {},
   "outputs": [],
   "source": [
    "output.write.format(\"jdbc\")\n",
    "    .option(\"url\", \"jdbc:mysql://localhost/covid\") #covid adalah nama database\n",
    "    .option(\"driver\", \"com.mysql.jdbc.Driver\")\n",
    "    .option(\"dbtable\", \"info\") #nama tabel\n",
    "    .option(\"user\", \"root\") #user akses ke database\n",
    "    .option(\"password\", \"\") #password akses ke database (kosongkan jika tidak menggunakan password)\n",
    "    .mode('append') #akan selalu menambahkan, hilangkan ini jika ingin mereplace data baru\n",
    "    .save()"
   ]
  }
 ],
 "metadata": {
  "kernelspec": {
   "display_name": "Python 3",
   "language": "python",
   "name": "python3"
  },
  "language_info": {
   "codemirror_mode": {
    "name": "ipython",
    "version": 3
   },
   "file_extension": ".py",
   "mimetype": "text/x-python",
   "name": "python",
   "nbconvert_exporter": "python",
   "pygments_lexer": "ipython3",
   "version": "3.7.6"
  }
 },
 "nbformat": 4,
 "nbformat_minor": 4
}
